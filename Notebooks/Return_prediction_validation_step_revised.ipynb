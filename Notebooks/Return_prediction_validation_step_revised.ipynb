{
  "cells": [
    {
      "cell_type": "markdown",
      "metadata": {
        "id": "GGp5RuW61IXb"
      },
      "source": [
        "# Return Prediction for View and Uncertainty Matrix"
      ]
    },
    {
      "cell_type": "code",
      "execution_count": 64,
      "metadata": {
        "colab": {
          "base_uri": "https://localhost:8080/"
        },
        "collapsed": true,
        "id": "fxxiNrelbrQS",
        "outputId": "c81cb4ee-80c8-4313-97d2-9630beda5c05"
      },
      "outputs": [],
      "source": [
        "import pandas as pd\n",
        "import numpy as np\n",
        "from sklearn.ensemble import RandomForestRegressor\n",
        "from sklearn.linear_model import LinearRegression\n",
        "import xgboost as xgb\n",
        "from sklearn.preprocessing import StandardScaler\n",
        "import matplotlib.pyplot as plt\n",
        "import yfinance as yf\n",
        "\n",
        "# Function to preprocess data\n",
        "def preprocess_data(df, shift=100):\n",
        "    df['Date'] = pd.to_datetime(df.index)\n",
        "    df.set_index('Date', inplace=True)\n",
        "    df['Future_Return'] = df['Adj Close'].shift(-shift) / df['Adj Close'] - 1\n",
        "    df = df.dropna(subset=['Future_Return'])\n",
        "    df.loc[:, 'SMA_5'] = df['Adj Close'].rolling(window=5).mean()\n",
        "    df = df.dropna()\n",
        "    features = ['Open', 'High', 'Low', 'Adj Close', 'Volume', 'SMA_5']\n",
        "    X = df[features]\n",
        "    y = df['Future_Return']\n",
        "    # scaler = StandardScaler()\n",
        "    # X_scaled = scaler.fit_transform(X)\n",
        "    return X, y\n",
        "\n",
        "# Function to train models and perform bootstrapping\n",
        "def train_and_predict(X_train, y_train, X_test, n_iterations=100):\n",
        "    models = {\n",
        "        'Linear Regression': LinearRegression(),\n",
        "        'Random Forest': RandomForestRegressor(n_estimators=100, random_state=42),\n",
        "        'XGBoost': xgb.XGBRegressor(objective='reg:squarederror', colsample_bytree=0.3, learning_rate=0.1, max_depth=5, alpha=10, n_estimators=100)\n",
        "    }\n",
        "    predictions = {}\n",
        "\n",
        "    for model_name, model in models.items():\n",
        "        model.fit(X_train, y_train)\n",
        "        preds = np.zeros((n_iterations, X_test.shape[0]))\n",
        "        for i in range(n_iterations):\n",
        "            preds[i] = model.predict(X_test)\n",
        "        predictions[model_name] = preds.mean(axis=0)\n",
        "\n",
        "    return predictions\n",
        "\n",
        "# Function to preprocess data and split into training and testing sets\n",
        "def split_data(company_data, shift=100):\n",
        "    X, y = preprocess_data(company_data)\n",
        "    train_size = int(len(X) - shift)\n",
        "    return (X[:train_size], X[train_size:], y[:train_size], y[train_size:])\n",
        "\n",
        "def get_views(tickers, start_date=\"2022-12-31\", end_date=\"2024-03-31\", models=['Linear Regression', 'Random Forest', 'XGBoost']):\n",
        "    # Download historical data for each stock\n",
        "    companies_data = []\n",
        "    for ticker in tickers:\n",
        "        companies_data.append(yf.download(ticker, start=start_date, end=end_date))\n",
        "\n",
        "    # Preprocess data and split into training and testing sets\n",
        "    data_splits = []\n",
        "    for df in companies_data:\n",
        "        data_splits.append(split_data(df))\n",
        "\n",
        "    # Initialize matrices to store results\n",
        "    n_companies = len(tickers)\n",
        "    n_models = len(models)\n",
        "    returns_dict = {model: [0]*n_companies for model in models}\n",
        "    confidence_intervals_dict = {model: [[0, 0] for _ in range(n_companies)] for model in models}  # lower and upper bounds\n",
        "    uncertainty_dict = {model: [0]*n_companies for model in models}\n",
        "\n",
        "    # Train models and calculate predictions\n",
        "    predicted_returns = []\n",
        "    for i, (X_train, X_test, y_train, y_test) in enumerate(data_splits):\n",
        "        predictions = train_and_predict(X_train, y_train, X_test)\n",
        "        uncertainties = train_and_predict(X_train, y_train, X_test)\n",
        "        predicted_returns.append(predictions)\n",
        "\n",
        "        for _, model in enumerate(models):\n",
        "            # Store predictions\n",
        "            returns_dict[model][i] = predictions[model].mean()\n",
        "\n",
        "            # Store confidence intervals (95% CI)\n",
        "            confidence_intervals_dict[model][i][0] = predictions[model].mean() - 1.96 * uncertainties[model].mean()\n",
        "            confidence_intervals_dict[model][i][1] = predictions[model].mean() + 1.96 * uncertainties[model].mean()\n",
        "\n",
        "            # # Calculate uncertainty as the width of the confidence interval\n",
        "            uncertainty_dict[model][i] = confidence_intervals_dict[model][i][1] - confidence_intervals_dict[model][i][0]\n",
        "    return returns_dict, confidence_intervals_dict, uncertainty_dict"
      ]
    },
    {
      "cell_type": "code",
      "execution_count": 65,
      "metadata": {
        "colab": {
          "base_uri": "https://localhost:8080/"
        },
        "id": "ytAs9hW5UteQ",
        "outputId": "867d85ed-8286-4a34-a3ed-45df37eeb0bf"
      },
      "outputs": [],
      "source": [
        "# Download historical data for each stock\n",
        "def combined_data(tickers, start_date=\"2022-12-31\", end_date=\"2024-03-31\", risk_free_rate=0.02, save=False, output_dir=\"./\"):\n",
        "    data = {}\n",
        "    for ticker in tickers:\n",
        "        data[ticker] = yf.download(ticker, start=start_date, end=end_date)[['Open', 'Adj Close']]\n",
        "\n",
        "    # Combine the data into a single DataFrame\n",
        "    df_combined = pd.DataFrame()\n",
        "    for ticker in tickers:\n",
        "        df_temp = data[ticker].copy()\n",
        "        df_temp.columns = [f'{ticker}_Open', f'{ticker}_Close']\n",
        "        df_combined = pd.merge(df_combined, df_temp, left_index=True, right_index=True, how='outer')\n",
        "\n",
        "    # Add a sample risk-free rate (e.g., 1% per year, constant)\n",
        "    df_combined['RiskFreeRate'] = risk_free_rate\n",
        "\n",
        "    # Save the combined DataFrame to a CSV file\n",
        "    if save:\n",
        "        df_combined.to_csv(f'{output_dir}combined_stock_data.csv')\n",
        "\n",
        "    # Display the combined DataFrame\n",
        "    print(df_combined.head())\n",
        "    return df_combined"
      ]
    },
    {
      "cell_type": "code",
      "execution_count": 66,
      "metadata": {
        "colab": {
          "base_uri": "https://localhost:8080/"
        },
        "id": "HlI7K7uuVs97",
        "outputId": "69a04df0-a362-4933-ab9c-b98569238e1b"
      },
      "outputs": [],
      "source": [
        "def get_returns(tickers, df_combined):\n",
        "    assets = []\n",
        "    for ticker in tickers:\n",
        "        assets.append(f\"{ticker}_Close\")\n",
        "    for asset in assets:\n",
        "        df_combined[f'{asset}_Return'] = df_combined[asset].pct_change()\n",
        "\n",
        "    # Drop NaN values\n",
        "    df_combined.dropna(inplace=True)\n",
        "\n",
        "    # Select return columns\n",
        "    return_columns = [f'{asset}_Return' for asset in assets]\n",
        "    returns = df_combined[return_columns]\n",
        "\n",
        "    return returns"
      ]
    },
    {
      "cell_type": "code",
      "execution_count": 80,
      "metadata": {},
      "outputs": [],
      "source": [
        "start_date=\"2022-12-31\"\n",
        "end_date=\"2024-03-31\"\n",
        "tickers = [\"AAPL\", \"MSFT\", \"GOOGL\", \"AMZN\", \"IBM\", \"TSLA\", \"NVDA\", \"INTC\", \"ADBE\", \"CSCO\"]"
      ]
    },
    {
      "cell_type": "code",
      "execution_count": 81,
      "metadata": {},
      "outputs": [
        {
          "name": "stderr",
          "output_type": "stream",
          "text": [
            "[*********************100%%**********************]  1 of 1 completed\n",
            "[*********************100%%**********************]  1 of 1 completed"
          ]
        },
        {
          "name": "stderr",
          "output_type": "stream",
          "text": [
            "\n",
            "[*********************100%%**********************]  1 of 1 completed\n",
            "[*********************100%%**********************]  1 of 1 completed\n",
            "[*********************100%%**********************]  1 of 1 completed\n",
            "[*********************100%%**********************]  1 of 1 completed\n",
            "[*********************100%%**********************]  1 of 1 completed\n",
            "[*********************100%%**********************]  1 of 1 completed\n",
            "[*********************100%%**********************]  1 of 1 completed\n",
            "[*********************100%%**********************]  1 of 1 completed\n"
          ]
        }
      ],
      "source": [
        "data = {}\n",
        "for ticker in tickers:\n",
        "    data[ticker] = yf.download(ticker, start=start_date, end=end_date)[['Open', 'Adj Close']]"
      ]
    },
    {
      "cell_type": "code",
      "execution_count": 82,
      "metadata": {},
      "outputs": [
        {
          "data": {
            "text/html": [
              "<div>\n",
              "<style scoped>\n",
              "    .dataframe tbody tr th:only-of-type {\n",
              "        vertical-align: middle;\n",
              "    }\n",
              "\n",
              "    .dataframe tbody tr th {\n",
              "        vertical-align: top;\n",
              "    }\n",
              "\n",
              "    .dataframe thead th {\n",
              "        text-align: right;\n",
              "    }\n",
              "</style>\n",
              "<table border=\"1\" class=\"dataframe\">\n",
              "  <thead>\n",
              "    <tr style=\"text-align: right;\">\n",
              "      <th></th>\n",
              "      <th>Open</th>\n",
              "      <th>Adj Close</th>\n",
              "    </tr>\n",
              "    <tr>\n",
              "      <th>Date</th>\n",
              "      <th></th>\n",
              "      <th></th>\n",
              "    </tr>\n",
              "  </thead>\n",
              "  <tbody>\n",
              "    <tr>\n",
              "      <th>2023-01-03</th>\n",
              "      <td>141.100006</td>\n",
              "      <td>131.173386</td>\n",
              "    </tr>\n",
              "    <tr>\n",
              "      <th>2023-01-04</th>\n",
              "      <td>142.070007</td>\n",
              "      <td>132.146439</td>\n",
              "    </tr>\n",
              "    <tr>\n",
              "      <th>2023-01-05</th>\n",
              "      <td>142.440002</td>\n",
              "      <td>130.765656</td>\n",
              "    </tr>\n",
              "    <tr>\n",
              "      <th>2023-01-06</th>\n",
              "      <td>142.380005</td>\n",
              "      <td>133.165802</td>\n",
              "    </tr>\n",
              "    <tr>\n",
              "      <th>2023-01-09</th>\n",
              "      <td>144.080002</td>\n",
              "      <td>133.026779</td>\n",
              "    </tr>\n",
              "    <tr>\n",
              "      <th>...</th>\n",
              "      <td>...</td>\n",
              "      <td>...</td>\n",
              "    </tr>\n",
              "    <tr>\n",
              "      <th>2024-03-22</th>\n",
              "      <td>192.000000</td>\n",
              "      <td>187.325775</td>\n",
              "    </tr>\n",
              "    <tr>\n",
              "      <th>2024-03-25</th>\n",
              "      <td>190.259995</td>\n",
              "      <td>185.313522</td>\n",
              "    </tr>\n",
              "    <tr>\n",
              "      <th>2024-03-26</th>\n",
              "      <td>189.020004</td>\n",
              "      <td>185.028870</td>\n",
              "    </tr>\n",
              "    <tr>\n",
              "      <th>2024-03-27</th>\n",
              "      <td>189.600006</td>\n",
              "      <td>187.286530</td>\n",
              "    </tr>\n",
              "    <tr>\n",
              "      <th>2024-03-28</th>\n",
              "      <td>190.940002</td>\n",
              "      <td>187.443573</td>\n",
              "    </tr>\n",
              "  </tbody>\n",
              "</table>\n",
              "<p>311 rows × 2 columns</p>\n",
              "</div>"
            ],
            "text/plain": [
              "                  Open   Adj Close\n",
              "Date                              \n",
              "2023-01-03  141.100006  131.173386\n",
              "2023-01-04  142.070007  132.146439\n",
              "2023-01-05  142.440002  130.765656\n",
              "2023-01-06  142.380005  133.165802\n",
              "2023-01-09  144.080002  133.026779\n",
              "...                ...         ...\n",
              "2024-03-22  192.000000  187.325775\n",
              "2024-03-25  190.259995  185.313522\n",
              "2024-03-26  189.020004  185.028870\n",
              "2024-03-27  189.600006  187.286530\n",
              "2024-03-28  190.940002  187.443573\n",
              "\n",
              "[311 rows x 2 columns]"
            ]
          },
          "execution_count": 82,
          "metadata": {},
          "output_type": "execute_result"
        }
      ],
      "source": [
        "data[\"IBM\"]"
      ]
    },
    {
      "cell_type": "code",
      "execution_count": 83,
      "metadata": {},
      "outputs": [
        {
          "name": "stderr",
          "output_type": "stream",
          "text": [
            "[*********************100%%**********************]  1 of 1 completed\n",
            "[*********************100%%**********************]  1 of 1 completed"
          ]
        },
        {
          "name": "stderr",
          "output_type": "stream",
          "text": [
            "\n",
            "[*********************100%%**********************]  1 of 1 completed\n",
            "[*********************100%%**********************]  1 of 1 completed\n",
            "[*********************100%%**********************]  1 of 1 completed\n",
            "[*********************100%%**********************]  1 of 1 completed\n",
            "[*********************100%%**********************]  1 of 1 completed\n",
            "[*********************100%%**********************]  1 of 1 completed\n",
            "[*********************100%%**********************]  1 of 1 completed\n",
            "[*********************100%%**********************]  1 of 1 completed\n",
            "/var/folders/vd/9kcn23rn04n26pd2r2yhmvy40000gn/T/ipykernel_29310/1345561388.py:16: SettingWithCopyWarning: \n",
            "A value is trying to be set on a copy of a slice from a DataFrame.\n",
            "Try using .loc[row_indexer,col_indexer] = value instead\n",
            "\n",
            "See the caveats in the documentation: https://pandas.pydata.org/pandas-docs/stable/user_guide/indexing.html#returning-a-view-versus-a-copy\n",
            "  df.loc[:, 'SMA_5'] = df['Adj Close'].rolling(window=5).mean()\n",
            "/var/folders/vd/9kcn23rn04n26pd2r2yhmvy40000gn/T/ipykernel_29310/1345561388.py:16: SettingWithCopyWarning: \n",
            "A value is trying to be set on a copy of a slice from a DataFrame.\n",
            "Try using .loc[row_indexer,col_indexer] = value instead\n",
            "\n",
            "See the caveats in the documentation: https://pandas.pydata.org/pandas-docs/stable/user_guide/indexing.html#returning-a-view-versus-a-copy\n",
            "  df.loc[:, 'SMA_5'] = df['Adj Close'].rolling(window=5).mean()\n",
            "/var/folders/vd/9kcn23rn04n26pd2r2yhmvy40000gn/T/ipykernel_29310/1345561388.py:16: SettingWithCopyWarning: \n",
            "A value is trying to be set on a copy of a slice from a DataFrame.\n",
            "Try using .loc[row_indexer,col_indexer] = value instead\n",
            "\n",
            "See the caveats in the documentation: https://pandas.pydata.org/pandas-docs/stable/user_guide/indexing.html#returning-a-view-versus-a-copy\n",
            "  df.loc[:, 'SMA_5'] = df['Adj Close'].rolling(window=5).mean()\n",
            "/var/folders/vd/9kcn23rn04n26pd2r2yhmvy40000gn/T/ipykernel_29310/1345561388.py:16: SettingWithCopyWarning: \n",
            "A value is trying to be set on a copy of a slice from a DataFrame.\n",
            "Try using .loc[row_indexer,col_indexer] = value instead\n",
            "\n",
            "See the caveats in the documentation: https://pandas.pydata.org/pandas-docs/stable/user_guide/indexing.html#returning-a-view-versus-a-copy\n",
            "  df.loc[:, 'SMA_5'] = df['Adj Close'].rolling(window=5).mean()\n",
            "/var/folders/vd/9kcn23rn04n26pd2r2yhmvy40000gn/T/ipykernel_29310/1345561388.py:16: SettingWithCopyWarning: \n",
            "A value is trying to be set on a copy of a slice from a DataFrame.\n",
            "Try using .loc[row_indexer,col_indexer] = value instead\n",
            "\n",
            "See the caveats in the documentation: https://pandas.pydata.org/pandas-docs/stable/user_guide/indexing.html#returning-a-view-versus-a-copy\n",
            "  df.loc[:, 'SMA_5'] = df['Adj Close'].rolling(window=5).mean()\n",
            "/var/folders/vd/9kcn23rn04n26pd2r2yhmvy40000gn/T/ipykernel_29310/1345561388.py:16: SettingWithCopyWarning: \n",
            "A value is trying to be set on a copy of a slice from a DataFrame.\n",
            "Try using .loc[row_indexer,col_indexer] = value instead\n",
            "\n",
            "See the caveats in the documentation: https://pandas.pydata.org/pandas-docs/stable/user_guide/indexing.html#returning-a-view-versus-a-copy\n",
            "  df.loc[:, 'SMA_5'] = df['Adj Close'].rolling(window=5).mean()\n",
            "/var/folders/vd/9kcn23rn04n26pd2r2yhmvy40000gn/T/ipykernel_29310/1345561388.py:16: SettingWithCopyWarning: \n",
            "A value is trying to be set on a copy of a slice from a DataFrame.\n",
            "Try using .loc[row_indexer,col_indexer] = value instead\n",
            "\n",
            "See the caveats in the documentation: https://pandas.pydata.org/pandas-docs/stable/user_guide/indexing.html#returning-a-view-versus-a-copy\n",
            "  df.loc[:, 'SMA_5'] = df['Adj Close'].rolling(window=5).mean()\n",
            "/var/folders/vd/9kcn23rn04n26pd2r2yhmvy40000gn/T/ipykernel_29310/1345561388.py:16: SettingWithCopyWarning: \n",
            "A value is trying to be set on a copy of a slice from a DataFrame.\n",
            "Try using .loc[row_indexer,col_indexer] = value instead\n",
            "\n",
            "See the caveats in the documentation: https://pandas.pydata.org/pandas-docs/stable/user_guide/indexing.html#returning-a-view-versus-a-copy\n",
            "  df.loc[:, 'SMA_5'] = df['Adj Close'].rolling(window=5).mean()\n",
            "/var/folders/vd/9kcn23rn04n26pd2r2yhmvy40000gn/T/ipykernel_29310/1345561388.py:16: SettingWithCopyWarning: \n",
            "A value is trying to be set on a copy of a slice from a DataFrame.\n",
            "Try using .loc[row_indexer,col_indexer] = value instead\n",
            "\n",
            "See the caveats in the documentation: https://pandas.pydata.org/pandas-docs/stable/user_guide/indexing.html#returning-a-view-versus-a-copy\n",
            "  df.loc[:, 'SMA_5'] = df['Adj Close'].rolling(window=5).mean()\n",
            "/var/folders/vd/9kcn23rn04n26pd2r2yhmvy40000gn/T/ipykernel_29310/1345561388.py:16: SettingWithCopyWarning: \n",
            "A value is trying to be set on a copy of a slice from a DataFrame.\n",
            "Try using .loc[row_indexer,col_indexer] = value instead\n",
            "\n",
            "See the caveats in the documentation: https://pandas.pydata.org/pandas-docs/stable/user_guide/indexing.html#returning-a-view-versus-a-copy\n",
            "  df.loc[:, 'SMA_5'] = df['Adj Close'].rolling(window=5).mean()\n",
            "[*********************100%%**********************]  1 of 1 completed\n",
            "[*********************100%%**********************]  1 of 1 completed\n",
            "[*********************100%%**********************]  1 of 1 completed\n",
            "[*********************100%%**********************]  1 of 1 completed\n",
            "[*********************100%%**********************]  1 of 1 completed\n",
            "[*********************100%%**********************]  1 of 1 completed\n",
            "[*********************100%%**********************]  1 of 1 completed\n",
            "[*********************100%%**********************]  1 of 1 completed\n",
            "[*********************100%%**********************]  1 of 1 completed\n",
            "[*********************100%%**********************]  1 of 1 completed"
          ]
        },
        {
          "name": "stdout",
          "output_type": "stream",
          "text": [
            "             AAPL_Open  AAPL_Close   MSFT_Open  MSFT_Close  GOOGL_Open  \\\n",
            "Date                                                                     \n",
            "2023-01-03  130.279999  123.904617  243.080002  236.183517   89.589996   \n",
            "2023-01-04  126.889999  125.182610  232.279999  225.852112   90.349998   \n",
            "2023-01-05  127.129997  123.855087  227.199997  219.158340   87.470001   \n",
            "2023-01-06  126.010002  128.412247  223.000000  221.741196   86.790001   \n",
            "2023-01-09  130.470001  128.937302  226.449997  223.900162   88.360001   \n",
            "\n",
            "            GOOGL_Close  AMZN_Open  AMZN_Close   TSLA_Open  TSLA_Close  ...  \\\n",
            "Date                                                                    ...   \n",
            "2023-01-03    88.899872  85.459999   85.820000  118.470001  108.099998  ...   \n",
            "2023-01-04    87.862442  86.550003   85.139999  109.110001  113.639999  ...   \n",
            "2023-01-05    85.987076  85.330002   83.120003  110.510002  110.339996  ...   \n",
            "2023-01-06    87.124260  83.029999   86.080002  103.000000  113.059998  ...   \n",
            "2023-01-09    87.802582  87.459999   87.360001  118.959999  119.769997  ...   \n",
            "\n",
            "            NVDA_Close  INTC_Open  INTC_Close   ADBE_Open  ADBE_Close  \\\n",
            "Date                                                                    \n",
            "2023-01-03   14.305580  27.049999   25.775145  340.160004  336.920013   \n",
            "2023-01-04   14.739295  27.410000   26.691208  342.890015  341.410004   \n",
            "2023-01-05   14.255617  27.440001   26.575495  337.529999  328.440002   \n",
            "2023-01-06   14.849223  27.930000   27.703703  332.279999  332.750000   \n",
            "2023-01-09   15.617718  28.840000   28.262981  338.899994  341.980011   \n",
            "\n",
            "            CSCO_Open  CSCO_Close    IBM_Open   IBM_Close  RiskFreeRate  \n",
            "Date                                                                     \n",
            "2023-01-03  47.860001   45.392151  141.100006  131.173386          0.02  \n",
            "2023-01-04  48.279999   45.382607  142.070007  132.146439          0.02  \n",
            "2023-01-05  47.490002   44.743153  142.440002  130.765656          0.02  \n",
            "2023-01-06  47.459999   46.117504  142.380005  133.165802          0.02  \n",
            "2023-01-09  48.259998   46.365658  144.080002  133.026779          0.02  \n",
            "\n",
            "[5 rows x 21 columns]\n"
          ]
        },
        {
          "name": "stderr",
          "output_type": "stream",
          "text": [
            "\n"
          ]
        }
      ],
      "source": [
        "tickers = [\"AAPL\", \"MSFT\", \"GOOGL\", \"AMZN\", \"TSLA\", \"NVDA\", \"INTC\", \"ADBE\", \"CSCO\", \"IBM\"]  # Example tickers for NVIDIA, Apple, and Google\n",
        "returns_matrix, confidence_intervals_matrix, uncertainty_matrix = get_views(tickers)\n",
        "df_combined = combined_data(tickers)\n",
        "returns = get_returns(tickers, df_combined)"
      ]
    },
    {
      "cell_type": "code",
      "execution_count": 84,
      "metadata": {
        "id": "lB27HT9lPk8Q"
      },
      "outputs": [],
      "source": [
        "def calculate_sharpe_ratio_portfolio(returns, weights, risk_free_rate = 0.02, periods_per_year=252):\n",
        "    \"\"\"\n",
        "    Calculate the Sharpe Ratio for a portfolio of assets.\n",
        "\n",
        "    Parameters:\n",
        "    returns (pd.DataFrame): DataFrame of daily returns of the assets.\n",
        "    weights (np.array): Array of portfolio weights.\n",
        "    risk_free_rate (float): Risk-free rate, expressed as an annualized rate.\n",
        "    periods_per_year (int): Number of periods per year (252 for daily returns).\n",
        "\n",
        "    Returns:\n",
        "    tuple: The portfolio's volatility and Sharpe Ratio.\n",
        "    \"\"\"\n",
        "    # Calculate the mean and covariance of daily returns\n",
        "    mean_returns = returns.mean()\n",
        "    cov_matrix = returns.cov()\n",
        "\n",
        "    # Calculate the portfolio return and volatility\n",
        "    # portfolio_return = np.dot(weights, mean_returns)\n",
        "    # portfolio_volatility = np.sqrt(np.dot(weights.T, np.dot(cov_matrix, weights)))\n",
        "\n",
        "    portfolio_return = (1+np.dot(weights, mean_returns)) ** periods_per_year - 1\n",
        "    portfolio_volatility = np.sqrt(np.dot(weights.T, np.dot(cov_matrix, weights))) * np.sqrt(periods_per_year)\n",
        "\n",
        "    # # Calculate the annualized risk-free rate per period\n",
        "    # risk_free_rate_per_period = (1 + risk_free_rate) ** (1 / periods_per_year) - 1\n",
        "\n",
        "    # Calculate the excess return\n",
        "    excess_return = portfolio_return - risk_free_rate\n",
        "\n",
        "    # Calculate the Sharpe Ratio\n",
        "    sharpe_ratio = excess_return / portfolio_volatility\n",
        "\n",
        "    return portfolio_return, portfolio_volatility, sharpe_ratio"
      ]
    },
    {
      "cell_type": "code",
      "execution_count": 40,
      "metadata": {
        "colab": {
          "base_uri": "https://localhost:8080/"
        },
        "id": "NFyXX8HpoK7b",
        "outputId": "c5d0e8bb-a7aa-41c3-9136-0ca6cb7f562e"
      },
      "outputs": [
        {
          "name": "stdout",
          "output_type": "stream",
          "text": [
            "Returns Matrix:\n",
            "{'Linear Regression': [-0.31598252708136004, -0.12184660443674084, -0.14879074732891], 'Random Forest': [0.13167355860980087, -0.038730093419099755, -0.12045620854904034], 'XGBoost': [0.310967585593462, -0.0008927726885303855, -0.07804650813341141]}\n"
          ]
        },
        {
          "ename": "TypeError",
          "evalue": "unhashable type: 'slice'",
          "output_type": "error",
          "traceback": [
            "\u001b[0;31m---------------------------------------------------------------------------\u001b[0m",
            "\u001b[0;31mTypeError\u001b[0m                                 Traceback (most recent call last)",
            "Cell \u001b[0;32mIn [40], line 5\u001b[0m\n\u001b[1;32m      2\u001b[0m \u001b[38;5;28mprint\u001b[39m(\u001b[38;5;124m\"\u001b[39m\u001b[38;5;124mReturns Matrix:\u001b[39m\u001b[38;5;124m\"\u001b[39m)\n\u001b[1;32m      3\u001b[0m \u001b[38;5;28mprint\u001b[39m(returns_matrix)\n\u001b[0;32m----> 5\u001b[0m linear_regression_returns \u001b[38;5;241m=\u001b[39m \u001b[43mreturns_matrix\u001b[49m\u001b[43m[\u001b[49m\u001b[43m:\u001b[49m\u001b[43m,\u001b[49m\u001b[43m \u001b[49m\u001b[38;5;241;43m0\u001b[39;49m\u001b[43m]\u001b[49m\u001b[38;5;241m.\u001b[39mtolist()\n\u001b[1;32m      6\u001b[0m \u001b[38;5;28mprint\u001b[39m(\u001b[38;5;124m\"\u001b[39m\u001b[38;5;124mLinear Regression Returns:\u001b[39m\u001b[38;5;124m\"\u001b[39m, linear_regression_returns)\n\u001b[1;32m      8\u001b[0m random_forest_returns \u001b[38;5;241m=\u001b[39m returns_matrix[:, \u001b[38;5;241m1\u001b[39m]\u001b[38;5;241m.\u001b[39mtolist()\n",
            "\u001b[0;31mTypeError\u001b[0m: unhashable type: 'slice'"
          ]
        }
      ],
      "source": [
        "# Display results\n",
        "print(\"Returns Matrix:\")\n",
        "print(returns_matrix)\n",
        "\n",
        "linear_regression_returns = returns_matrix[:, 0].tolist()\n",
        "print(\"Linear Regression Returns:\", linear_regression_returns)\n",
        "\n",
        "random_forest_returns = returns_matrix[:, 1].tolist()\n",
        "print(\"Random Forest Returns:\", random_forest_returns)\n",
        "\n",
        "xg_boost_returns = returns_matrix[:, 2].tolist()\n",
        "print(\"XG Boost Returns:\", xg_boost_returns)"
      ]
    },
    {
      "cell_type": "code",
      "execution_count": 124,
      "metadata": {
        "colab": {
          "base_uri": "https://localhost:8080/"
        },
        "id": "Z2W7wBVInRXZ",
        "outputId": "574ef909-fce5-4217-aa36-484608d4d594"
      },
      "outputs": [
        {
          "name": "stdout",
          "output_type": "stream",
          "text": [
            "{'Linear Regression': [0.06, -0.06, 0.05], 'Random Forest': [0.05, -0.02, 0.03], 'XGBoost': [0.66, 0.16, 0.22]}\n",
            "uncertainty\n",
            "{'Linear Regression': [0.2, -0.2, 0.2], 'Random Forest': [0.2, -0.1, 0.1], 'XGBoost': [2.6, 0.6, 0.9]}\n",
            "      Linear Regression  Random Forest  XGBoost\n",
            "NVDA               0.06           0.05     0.66\n",
            "AAPL              -0.06          -0.02     0.16\n",
            "GOOG               0.05           0.03     0.22\n",
            "      Linear Regression  Random Forest  XGBoost\n",
            "NVDA                0.2            0.2      2.6\n",
            "AAPL               -0.2           -0.1      0.6\n",
            "GOOG                0.2            0.1      0.9\n"
          ]
        }
      ],
      "source": [
        "# Prepare results for output\n",
        "results = {'Linear Regression': [], 'Random Forest': [], 'XGBoost': []}\n",
        "uncertainty_results = {'Linear Regression': [], 'Random Forest': [], 'XGBoost': []}\n",
        "\n",
        "for model_index, model_name in enumerate(results.keys()):\n",
        "    for company_index in range(n_companies):\n",
        "        results[model_name].append(returns_matrix[company_index, model_index])\n",
        "        uncertainty_results[model_name].append(uncertainty_matrix[company_index, model_index])\n",
        "for model_name in results:\n",
        "    results[model_name] = [round(num, 2) for num in results[model_name]]\n",
        "#this result is the viewDict\n",
        "print(results)\n",
        "\n",
        "for model_name in uncertainty_results:\n",
        "    uncertainty_results[model_name] = [round(num, 1) for num in uncertainty_results[model_name]]\n",
        "print(\"uncertainty\")\n",
        "print(uncertainty_results)\n",
        "\n",
        "# Convert results to DataFrame and display\n",
        "results_df = pd.DataFrame(results, index=['NVDA', 'AAPL', 'GOOG'])\n",
        "print(results_df)\n",
        "\n",
        "uncertainty_df = pd.DataFrame(uncertainty_results, index=['NVDA', 'AAPL', 'GOOG'])\n",
        "print(uncertainty_df)"
      ]
    },
    {
      "cell_type": "code",
      "execution_count": 125,
      "metadata": {
        "colab": {
          "base_uri": "https://localhost:8080/"
        },
        "id": "iK6DASGExEvu",
        "outputId": "f9fdfb06-d6dc-4264-861a-231857a646b9"
      },
      "outputs": [
        {
          "name": "stdout",
          "output_type": "stream",
          "text": [
            "{'NVDA': 0.06, 'AAPL': -0.06, 'GOOG': 0.05}\n",
            "{'NVDA': 0.05, 'AAPL': -0.02, 'GOOG': 0.03}\n",
            "{'NVDA': 0.66, 'AAPL': 0.16, 'GOOG': 0.22}\n"
          ]
        }
      ],
      "source": [
        "#ViewDict for Black-LItterman\n",
        "# for viewDict dictionary\n",
        "# exmaple\n",
        "'''viewdict = {\n",
        "    \"AMZN\": 0.10,\n",
        "    \"BAC\": 0.30,\n",
        "    \"COST\": 0.05,\n",
        "    \"DIS\": 0.05,\n",
        "    \"DPZ\": 0.20,\n",
        "    \"KO\": -0.05,  # I think Coca-Cola will go down 5%\n",
        "    \"MCD\": 0.15,\n",
        "    \"MSFT\": 0.10,\n",
        "    \"NAT\": 0.50,  # but low confidence, which will be reflected later\n",
        "    \"SBUX\": 0.10\n",
        "}\n",
        "'''\n",
        "# Using Linear Regression model\n",
        "\n",
        "linear_regression_returns_viewDict = results_df['Linear Regression'].to_dict()\n",
        "print(linear_regression_returns_viewDict)\n",
        "\n",
        "rf_returns_viewDict = results_df['Random Forest'].to_dict()\n",
        "print(rf_returns_viewDict)\n",
        "\n",
        "xg_returns_viewDict = results_df['XGBoost'].to_dict()\n",
        "print(xg_returns_viewDict)"
      ]
    },
    {
      "cell_type": "code",
      "execution_count": 126,
      "metadata": {
        "colab": {
          "base_uri": "https://localhost:8080/"
        },
        "id": "NY5T9n7HW-4r",
        "outputId": "5d0e8b21-97fb-42c2-84d7-a3b0c34269cd"
      },
      "outputs": [
        {
          "name": "stdout",
          "output_type": "stream",
          "text": [
            "[0.06, -0.06, 0.05]\n"
          ]
        }
      ],
      "source": [
        "print(results_df['Linear Regression'].tolist())"
      ]
    },
    {
      "cell_type": "code",
      "execution_count": 55,
      "metadata": {
        "colab": {
          "base_uri": "https://localhost:8080/",
          "height": 53
        },
        "id": "kgAaY_fbXRM_",
        "outputId": "648b396b-d1ad-44d3-e07f-ac02d86187c2"
      },
      "outputs": [
        {
          "data": {
            "application/vnd.google.colaboratory.intrinsic+json": {
              "type": "string"
            },
            "text/plain": [
              "'lr_weights = np.array(results_df[\\'Linear Regression\\'].tolist())\\nportfolio_volatility, sharpe_ratio = calculate_sharpe_ratio_portfolio(returns,lr_weights, 0.02)\\nprint(f\"Portfolio Volatility: {portfolio_volatility:.4f}\")\\nprint(f\"Sharpe Ratio for the portfolio: {sharpe_ratio:.4f}\")\\n'"
            ]
          },
          "execution_count": 55,
          "metadata": {},
          "output_type": "execute_result"
        }
      ],
      "source": [
        "'''lr_weights = np.array(results_df['Linear Regression'].tolist())\n",
        "portfolio_volatility, sharpe_ratio = calculate_sharpe_ratio_portfolio(returns,lr_weights, 0.02)\n",
        "print(f\"Portfolio Volatility: {portfolio_volatility:.4f}\")\n",
        "print(f\"Sharpe Ratio for the portfolio: {sharpe_ratio:.4f}\")\n",
        "'''"
      ]
    },
    {
      "cell_type": "code",
      "execution_count": 127,
      "metadata": {
        "colab": {
          "base_uri": "https://localhost:8080/"
        },
        "id": "4ulhSiH_uaCT",
        "outputId": "85e4497b-e117-4a72-9daf-7fe92437c163"
      },
      "outputs": [
        {
          "name": "stdout",
          "output_type": "stream",
          "text": [
            "[0.2, -0.2, 0.2]\n",
            "[0.2, -0.1, 0.1]\n",
            "[2.6, 0.6, 0.9]\n"
          ]
        }
      ],
      "source": [
        "#uncertainty matrix\n",
        "'''confidences = [\n",
        "    0.6,\n",
        "    0.4,\n",
        "    0.2,\n",
        "    0.5,\n",
        "    0.7, # confident in dominos\n",
        "    0.7, # confident KO will do poorly\n",
        "    0.7,\n",
        "    0.5,\n",
        "    0.1,\n",
        "    0.4\n",
        "]\n",
        "'''\n",
        "\n",
        "linear_regression_confidences = uncertainty_df['Linear Regression'].to_list()\n",
        "print(linear_regression_confidences)\n",
        "\n",
        "rf_confidences = uncertainty_df['Random Forest'].to_list()\n",
        "print(rf_confidences)\n",
        "\n",
        "xg_confidences = uncertainty_df['XGBoost'].to_list()\n",
        "print(xg_confidences)"
      ]
    },
    {
      "cell_type": "markdown",
      "metadata": {
        "id": "FX6pOk8D1AHz"
      },
      "source": [
        "# Portfolio Optimization\n"
      ]
    },
    {
      "cell_type": "code",
      "execution_count": 41,
      "metadata": {
        "colab": {
          "base_uri": "https://localhost:8080/"
        },
        "collapsed": true,
        "id": "Nx3CPz5Q1ScQ",
        "outputId": "ac1f8cea-044b-4403-97d9-9cb5a95a5ff9"
      },
      "outputs": [
        {
          "name": "stdout",
          "output_type": "stream",
          "text": [
            "Requirement already satisfied: pandas in /Users/lisirui/anaconda3/envs/bioenv/lib/python3.9/site-packages (2.2.2)\n",
            "Requirement already satisfied: numpy in /Users/lisirui/anaconda3/envs/bioenv/lib/python3.9/site-packages (1.26.4)\n",
            "Requirement already satisfied: matplotlib in /Users/lisirui/anaconda3/envs/bioenv/lib/python3.9/site-packages (3.9.0)\n",
            "Requirement already satisfied: yfinance in /Users/lisirui/anaconda3/envs/bioenv/lib/python3.9/site-packages (0.2.41)\n",
            "Requirement already satisfied: PyPortfolioOpt in /Users/lisirui/anaconda3/envs/bioenv/lib/python3.9/site-packages (1.5.5)\n",
            "Requirement already satisfied: python-dateutil>=2.8.2 in /Users/lisirui/anaconda3/envs/bioenv/lib/python3.9/site-packages (from pandas) (2.8.2)\n",
            "Requirement already satisfied: pytz>=2020.1 in /Users/lisirui/anaconda3/envs/bioenv/lib/python3.9/site-packages (from pandas) (2024.1)\n",
            "Requirement already satisfied: tzdata>=2022.7 in /Users/lisirui/anaconda3/envs/bioenv/lib/python3.9/site-packages (from pandas) (2024.1)\n",
            "Requirement already satisfied: contourpy>=1.0.1 in /Users/lisirui/anaconda3/envs/bioenv/lib/python3.9/site-packages (from matplotlib) (1.2.1)\n",
            "Requirement already satisfied: cycler>=0.10 in /Users/lisirui/anaconda3/envs/bioenv/lib/python3.9/site-packages (from matplotlib) (0.12.1)\n",
            "Requirement already satisfied: fonttools>=4.22.0 in /Users/lisirui/anaconda3/envs/bioenv/lib/python3.9/site-packages (from matplotlib) (4.53.0)\n",
            "Requirement already satisfied: kiwisolver>=1.3.1 in /Users/lisirui/anaconda3/envs/bioenv/lib/python3.9/site-packages (from matplotlib) (1.4.5)\n",
            "Requirement already satisfied: packaging>=20.0 in /Users/lisirui/anaconda3/envs/bioenv/lib/python3.9/site-packages (from matplotlib) (21.3)\n",
            "Requirement already satisfied: pillow>=8 in /Users/lisirui/anaconda3/envs/bioenv/lib/python3.9/site-packages (from matplotlib) (10.3.0)\n",
            "Requirement already satisfied: pyparsing>=2.3.1 in /Users/lisirui/anaconda3/envs/bioenv/lib/python3.9/site-packages (from matplotlib) (3.0.9)\n",
            "Requirement already satisfied: importlib-resources>=3.2.0 in /Users/lisirui/anaconda3/envs/bioenv/lib/python3.9/site-packages (from matplotlib) (6.4.0)\n",
            "Requirement already satisfied: requests>=2.31 in /Users/lisirui/anaconda3/envs/bioenv/lib/python3.9/site-packages (from yfinance) (2.32.3)\n",
            "Requirement already satisfied: multitasking>=0.0.7 in /Users/lisirui/anaconda3/envs/bioenv/lib/python3.9/site-packages (from yfinance) (0.0.11)\n",
            "Requirement already satisfied: lxml>=4.9.1 in /Users/lisirui/anaconda3/envs/bioenv/lib/python3.9/site-packages (from yfinance) (5.2.2)\n",
            "Requirement already satisfied: platformdirs>=2.0.0 in /Users/lisirui/anaconda3/envs/bioenv/lib/python3.9/site-packages (from yfinance) (2.5.2)\n",
            "Requirement already satisfied: frozendict>=2.3.4 in /Users/lisirui/anaconda3/envs/bioenv/lib/python3.9/site-packages (from yfinance) (2.4.4)\n",
            "Requirement already satisfied: peewee>=3.16.2 in /Users/lisirui/anaconda3/envs/bioenv/lib/python3.9/site-packages (from yfinance) (3.17.6)\n",
            "Requirement already satisfied: beautifulsoup4>=4.11.1 in /Users/lisirui/anaconda3/envs/bioenv/lib/python3.9/site-packages (from yfinance) (4.12.3)\n",
            "Requirement already satisfied: html5lib>=1.1 in /Users/lisirui/anaconda3/envs/bioenv/lib/python3.9/site-packages (from yfinance) (1.1)\n",
            "Requirement already satisfied: cvxpy<2.0.0,>=1.1.19 in /Users/lisirui/anaconda3/envs/bioenv/lib/python3.9/site-packages (from PyPortfolioOpt) (1.5.2)\n",
            "Requirement already satisfied: scipy<2.0,>=1.3 in /Users/lisirui/anaconda3/envs/bioenv/lib/python3.9/site-packages (from PyPortfolioOpt) (1.13.1)\n",
            "Requirement already satisfied: soupsieve>1.2 in /Users/lisirui/anaconda3/envs/bioenv/lib/python3.9/site-packages (from beautifulsoup4>=4.11.1->yfinance) (2.5)\n",
            "Requirement already satisfied: osqp>=0.6.2 in /Users/lisirui/anaconda3/envs/bioenv/lib/python3.9/site-packages (from cvxpy<2.0.0,>=1.1.19->PyPortfolioOpt) (0.6.7.post1)\n",
            "Requirement already satisfied: ecos>=2 in /Users/lisirui/anaconda3/envs/bioenv/lib/python3.9/site-packages (from cvxpy<2.0.0,>=1.1.19->PyPortfolioOpt) (2.0.14)\n",
            "Requirement already satisfied: clarabel>=0.5.0 in /Users/lisirui/anaconda3/envs/bioenv/lib/python3.9/site-packages (from cvxpy<2.0.0,>=1.1.19->PyPortfolioOpt) (0.9.0)\n",
            "Requirement already satisfied: scs>=3.2.4.post1 in /Users/lisirui/anaconda3/envs/bioenv/lib/python3.9/site-packages (from cvxpy<2.0.0,>=1.1.19->PyPortfolioOpt) (3.2.6)\n",
            "Requirement already satisfied: six>=1.9 in /Users/lisirui/anaconda3/envs/bioenv/lib/python3.9/site-packages (from html5lib>=1.1->yfinance) (1.16.0)\n",
            "Requirement already satisfied: webencodings in /Users/lisirui/anaconda3/envs/bioenv/lib/python3.9/site-packages (from html5lib>=1.1->yfinance) (0.5.1)\n",
            "Requirement already satisfied: zipp>=3.1.0 in /Users/lisirui/anaconda3/envs/bioenv/lib/python3.9/site-packages (from importlib-resources>=3.2.0->matplotlib) (3.19.1)\n",
            "Requirement already satisfied: charset-normalizer<4,>=2 in /Users/lisirui/anaconda3/envs/bioenv/lib/python3.9/site-packages (from requests>=2.31->yfinance) (3.3.2)\n",
            "Requirement already satisfied: idna<4,>=2.5 in /Users/lisirui/anaconda3/envs/bioenv/lib/python3.9/site-packages (from requests>=2.31->yfinance) (3.7)\n",
            "Requirement already satisfied: urllib3<3,>=1.21.1 in /Users/lisirui/anaconda3/envs/bioenv/lib/python3.9/site-packages (from requests>=2.31->yfinance) (2.2.1)\n",
            "Requirement already satisfied: certifi>=2017.4.17 in /Users/lisirui/anaconda3/envs/bioenv/lib/python3.9/site-packages (from requests>=2.31->yfinance) (2024.6.2)\n",
            "Requirement already satisfied: qdldl in /Users/lisirui/anaconda3/envs/bioenv/lib/python3.9/site-packages (from osqp>=0.6.2->cvxpy<2.0.0,>=1.1.19->PyPortfolioOpt) (0.1.7.post4)\n"
          ]
        }
      ],
      "source": [
        "!pip install pandas numpy matplotlib yfinance PyPortfolioOpt"
      ]
    },
    {
      "cell_type": "code",
      "execution_count": 85,
      "metadata": {
        "id": "sjf6Oqa51SfT"
      },
      "outputs": [],
      "source": [
        "import numpy as np\n",
        "import pandas as pd\n",
        "import matplotlib.pyplot as plt\n",
        "import yfinance as yf\n",
        "from pypfopt import EfficientFrontier, risk_models, black_litterman, expected_returns, BlackLittermanModel, HRPOpt, CLA"
      ]
    },
    {
      "cell_type": "code",
      "execution_count": 43,
      "metadata": {
        "colab": {
          "base_uri": "https://localhost:8080/",
          "height": 255
        },
        "collapsed": true,
        "id": "tlaIEwgR1SiG",
        "outputId": "865ecff9-0360-4981-8f00-61d74b7578ae"
      },
      "outputs": [
        {
          "name": "stderr",
          "output_type": "stream",
          "text": [
            "[*********************100%%**********************]  3 of 3 completed\n"
          ]
        },
        {
          "data": {
            "text/html": [
              "<div>\n",
              "<style scoped>\n",
              "    .dataframe tbody tr th:only-of-type {\n",
              "        vertical-align: middle;\n",
              "    }\n",
              "\n",
              "    .dataframe tbody tr th {\n",
              "        vertical-align: top;\n",
              "    }\n",
              "\n",
              "    .dataframe thead th {\n",
              "        text-align: right;\n",
              "    }\n",
              "</style>\n",
              "<table border=\"1\" class=\"dataframe\">\n",
              "  <thead>\n",
              "    <tr style=\"text-align: right;\">\n",
              "      <th>Ticker</th>\n",
              "      <th>AAPL</th>\n",
              "      <th>GOOG</th>\n",
              "      <th>NVDA</th>\n",
              "    </tr>\n",
              "    <tr>\n",
              "      <th>Date</th>\n",
              "      <th></th>\n",
              "      <th></th>\n",
              "      <th></th>\n",
              "    </tr>\n",
              "  </thead>\n",
              "  <tbody>\n",
              "    <tr>\n",
              "      <th>2022-01-03</th>\n",
              "      <td>179.273605</td>\n",
              "      <td>144.719086</td>\n",
              "      <td>30.073061</td>\n",
              "    </tr>\n",
              "    <tr>\n",
              "      <th>2022-01-04</th>\n",
              "      <td>176.998337</td>\n",
              "      <td>144.062714</td>\n",
              "      <td>29.243382</td>\n",
              "    </tr>\n",
              "    <tr>\n",
              "      <th>2022-01-05</th>\n",
              "      <td>172.290222</td>\n",
              "      <td>137.316284</td>\n",
              "      <td>27.560064</td>\n",
              "    </tr>\n",
              "    <tr>\n",
              "      <th>2022-01-06</th>\n",
              "      <td>169.414108</td>\n",
              "      <td>137.214035</td>\n",
              "      <td>28.133150</td>\n",
              "    </tr>\n",
              "    <tr>\n",
              "      <th>2022-01-07</th>\n",
              "      <td>169.581573</td>\n",
              "      <td>136.668869</td>\n",
              "      <td>27.203634</td>\n",
              "    </tr>\n",
              "  </tbody>\n",
              "</table>\n",
              "</div>"
            ],
            "text/plain": [
              "Ticker            AAPL        GOOG       NVDA\n",
              "Date                                         \n",
              "2022-01-03  179.273605  144.719086  30.073061\n",
              "2022-01-04  176.998337  144.062714  29.243382\n",
              "2022-01-05  172.290222  137.316284  27.560064\n",
              "2022-01-06  169.414108  137.214035  28.133150\n",
              "2022-01-07  169.581573  136.668869  27.203634"
            ]
          },
          "execution_count": 43,
          "metadata": {},
          "output_type": "execute_result"
        }
      ],
      "source": [
        "tickers = ['NVDA', 'AAPL', 'GOOG']\n",
        "ohlc = yf.download(tickers, start='2022-01-01',end='2024-01-01')\n",
        "prices = ohlc[\"Adj Close\"]\n",
        "prices.head()"
      ]
    },
    {
      "cell_type": "code",
      "execution_count": 44,
      "metadata": {
        "colab": {
          "base_uri": "https://localhost:8080/",
          "height": 290
        },
        "collapsed": true,
        "id": "1EeqFEXq2VLY",
        "outputId": "50a0ca10-0727-406d-bc2c-30fd381a54e9"
      },
      "outputs": [
        {
          "name": "stderr",
          "output_type": "stream",
          "text": [
            "[*********************100%%**********************]  1 of 1 completed\n"
          ]
        },
        {
          "data": {
            "text/plain": [
              "Date\n",
              "2023-12-22    469.225250\n",
              "2023-12-26    471.206573\n",
              "2023-12-27    472.058563\n",
              "2023-12-28    472.236847\n",
              "2023-12-29    470.869751\n",
              "Name: Adj Close, dtype: float64"
            ]
          },
          "execution_count": 44,
          "metadata": {},
          "output_type": "execute_result"
        }
      ],
      "source": [
        "market_prices = yf.download(\"SPY\", start='2022-01-01',end='2024-01-01')[\"Adj Close\"]\n",
        "market_prices.tail()"
      ]
    },
    {
      "cell_type": "code",
      "execution_count": 45,
      "metadata": {
        "colab": {
          "base_uri": "https://localhost:8080/"
        },
        "id": "qBBjl_UD1Skr",
        "outputId": "977c167a-18f9-429d-9bd2-83246efafa01"
      },
      "outputs": [
        {
          "data": {
            "text/plain": [
              "0.320379175290084"
            ]
          },
          "execution_count": 45,
          "metadata": {},
          "output_type": "execute_result"
        }
      ],
      "source": [
        "S = risk_models.CovarianceShrinkage(prices).ledoit_wolf()\n",
        "delta = black_litterman.market_implied_risk_aversion(market_prices)\n",
        "delta"
      ]
    },
    {
      "cell_type": "code",
      "execution_count": 46,
      "metadata": {
        "colab": {
          "base_uri": "https://localhost:8080/",
          "height": 238
        },
        "collapsed": true,
        "id": "xa71n5vP1SnR",
        "outputId": "2c089b80-69b0-4420-88dd-a286cbc99adc"
      },
      "outputs": [
        {
          "data": {
            "text/html": [
              "<div>\n",
              "<style scoped>\n",
              "    .dataframe tbody tr th:only-of-type {\n",
              "        vertical-align: middle;\n",
              "    }\n",
              "\n",
              "    .dataframe tbody tr th {\n",
              "        vertical-align: top;\n",
              "    }\n",
              "\n",
              "    .dataframe thead th {\n",
              "        text-align: right;\n",
              "    }\n",
              "</style>\n",
              "<table border=\"1\" class=\"dataframe\">\n",
              "  <thead>\n",
              "    <tr style=\"text-align: right;\">\n",
              "      <th>Ticker</th>\n",
              "      <th>AAPL</th>\n",
              "      <th>GOOG</th>\n",
              "      <th>NVDA</th>\n",
              "    </tr>\n",
              "    <tr>\n",
              "      <th>Date</th>\n",
              "      <th></th>\n",
              "      <th></th>\n",
              "      <th></th>\n",
              "    </tr>\n",
              "  </thead>\n",
              "  <tbody>\n",
              "    <tr>\n",
              "      <th>2022-01-04</th>\n",
              "      <td>-0.012692</td>\n",
              "      <td>-0.004535</td>\n",
              "      <td>-0.027589</td>\n",
              "    </tr>\n",
              "    <tr>\n",
              "      <th>2022-01-05</th>\n",
              "      <td>-0.026600</td>\n",
              "      <td>-0.046830</td>\n",
              "      <td>-0.057562</td>\n",
              "    </tr>\n",
              "    <tr>\n",
              "      <th>2022-01-06</th>\n",
              "      <td>-0.016693</td>\n",
              "      <td>-0.000745</td>\n",
              "      <td>0.020794</td>\n",
              "    </tr>\n",
              "    <tr>\n",
              "      <th>2022-01-07</th>\n",
              "      <td>0.000988</td>\n",
              "      <td>-0.003973</td>\n",
              "      <td>-0.033040</td>\n",
              "    </tr>\n",
              "    <tr>\n",
              "      <th>2022-01-10</th>\n",
              "      <td>0.000116</td>\n",
              "      <td>0.011456</td>\n",
              "      <td>0.005615</td>\n",
              "    </tr>\n",
              "  </tbody>\n",
              "</table>\n",
              "</div>"
            ],
            "text/plain": [
              "Ticker          AAPL      GOOG      NVDA\n",
              "Date                                    \n",
              "2022-01-04 -0.012692 -0.004535 -0.027589\n",
              "2022-01-05 -0.026600 -0.046830 -0.057562\n",
              "2022-01-06 -0.016693 -0.000745  0.020794\n",
              "2022-01-07  0.000988 -0.003973 -0.033040\n",
              "2022-01-10  0.000116  0.011456  0.005615"
            ]
          },
          "execution_count": 46,
          "metadata": {},
          "output_type": "execute_result"
        }
      ],
      "source": [
        "daily_returns = prices.pct_change().dropna()\n",
        "mu = expected_returns.mean_historical_return(prices)\n",
        "daily_returns.head()"
      ]
    },
    {
      "cell_type": "code",
      "execution_count": 132,
      "metadata": {
        "id": "ICA6fzVP3K5B"
      },
      "outputs": [],
      "source": [
        "def deviation_risk_parity(w, cov_matrix):\n",
        "    diff = w * np.dot(cov_matrix, w) - (w * np.dot(cov_matrix, w)).reshape(-1, 1)\n",
        "    return (diff**2).sum().sum()"
      ]
    },
    {
      "cell_type": "code",
      "execution_count": 133,
      "metadata": {
        "colab": {
          "base_uri": "https://localhost:8080/"
        },
        "id": "h1NIOq9L1SqB",
        "outputId": "ff0f59d2-7d52-4a57-e35c-82d7135d7f4f"
      },
      "outputs": [
        {
          "name": "stdout",
          "output_type": "stream",
          "text": [
            "Expected annual return: 7.3%\n",
            "Annual volatility: 32.8%\n",
            "Sharpe Ratio: 0.16\n"
          ]
        },
        {
          "data": {
            "text/plain": [
              "(0.07329607730191244, 0.32753408786396854, 0.16271917726025317)"
            ]
          },
          "execution_count": 133,
          "metadata": {},
          "output_type": "execute_result"
        }
      ],
      "source": [
        "ef = EfficientFrontier(mu, S)\n",
        "weights = ef.nonconvex_objective(deviation_risk_parity, ef.cov_matrix)\n",
        "ef.portfolio_performance(verbose=True)"
      ]
    },
    {
      "cell_type": "markdown",
      "metadata": {
        "id": "HVP7jY-o3QUO"
      },
      "source": [
        "**Black-Litterman**"
      ]
    },
    {
      "cell_type": "code",
      "execution_count": 86,
      "metadata": {
        "colab": {
          "base_uri": "https://localhost:8080/"
        },
        "id": "SGX00kO63Oh5",
        "outputId": "a6728941-7284-4cea-8eab-6fe34283b608"
      },
      "outputs": [],
      "source": [
        "def get_mcaps(tickers):\n",
        "    mcaps = {}\n",
        "    for t in tickers:\n",
        "        stock = yf.Ticker(t)\n",
        "        shares_outstanding = stock.info.get('sharesOutstanding')\n",
        "        marketCap=stock.history(start=\"2023-12-29\", end=\"2024-03-31\")['Close'].values[0] * shares_outstanding\n",
        "        mcaps[t] = marketCap\n",
        "    return mcaps"
      ]
    },
    {
      "cell_type": "code",
      "execution_count": 87,
      "metadata": {},
      "outputs": [],
      "source": [
        "def Blacklitterman_weights(S, prior, returns_matrix, uncertainty_matrix, tickers, model_name):\n",
        "    absolute_views = dict(zip(tickers, returns_matrix[model_name]))\n",
        "    view_confidences = uncertainty_matrix[model_name]\n",
        "    bl = BlackLittermanModel(S, pi=prior, absolute_views=absolute_views, view_confidences=view_confidences)\n",
        "    rets = bl.bl_returns()\n",
        "    ef = EfficientFrontier(rets, S)\n",
        "    ef.max_sharpe()\n",
        "    print(ef.clean_weights())\n",
        "    weights = ef.clean_weights()\n",
        "    weights = np.array(list(weights.values()))\n",
        "    predicted_features=ef.portfolio_performance(verbose=True)\n",
        "    return (absolute_views, view_confidences), weights, predicted_features"
      ]
    },
    {
      "cell_type": "code",
      "execution_count": 88,
      "metadata": {
        "colab": {
          "base_uri": "https://localhost:8080/"
        },
        "id": "mP06HXzE3Om-",
        "outputId": "acf29bbe-59f3-435c-93f9-850912fde141"
      },
      "outputs": [
        {
          "name": "stderr",
          "output_type": "stream",
          "text": [
            "[*********************100%%**********************]  10 of 10 completed\n"
          ]
        },
        {
          "name": "stdout",
          "output_type": "stream",
          "text": [
            "OrderedDict([('AAPL', 0.04017), ('ADBE', 0.24769), ('AMZN', 0.09063), ('CSCO', 0.01068), ('GOOGL', 0.07612), ('IBM', 0.17911), ('INTC', 0.02157), ('MSFT', 0.03986), ('NVDA', 0.22755), ('TSLA', 0.06663)])\n",
            "Expected annual return: 26.7%\n",
            "Annual volatility: 23.5%\n",
            "Sharpe Ratio: 1.05\n"
          ]
        }
      ],
      "source": [
        "#linear_regression_returns_viewDict\n",
        "#rf_returns_viewDict\n",
        "#xg_returns_viewDict\n",
        "ohlc = yf.download(tickers, start='2022-12-31',end='2024-01-01')\n",
        "prices = ohlc[\"Adj Close\"]\n",
        "S = risk_models.CovarianceShrinkage(prices).ledoit_wolf()\n",
        "prior = black_litterman.market_implied_prior_returns(get_mcaps(tickers), delta, S)\n",
        "views, weights, predicted_features = Blacklitterman_weights(S, prior, returns_matrix, uncertainty_matrix, tickers, 'XGBoost')"
      ]
    },
    {
      "cell_type": "markdown",
      "metadata": {
        "id": "UM3wdHgk-fPQ"
      },
      "source": [
        "### Validation"
      ]
    },
    {
      "cell_type": "markdown",
      "metadata": {},
      "source": [
        "use wights from the model to calculate the actual annual volatility and sharpe ratio, and compare the actual features with the predictied features"
      ]
    },
    {
      "cell_type": "code",
      "execution_count": 89,
      "metadata": {},
      "outputs": [],
      "source": [
        "def validation(returns, weights, predicted_features, risk_free_rate=0.02, shift=100):\n",
        "    actual_returns, actual_volatility, actual_sharpe_ratio = calculate_sharpe_ratio_portfolio(returns[-shift:], weights, risk_free_rate)\n",
        "    print(f\"Portfolio Return: {actual_returns:.4f}\")\n",
        "    print(f\"Portfolio Volatility: {actual_volatility:.4f}\")\n",
        "    print(f\"Sharpe Ratio for the portfolio: {actual_sharpe_ratio:.2f}\")\n",
        "    actual_features = np.array([actual_returns, actual_volatility, actual_sharpe_ratio])\n",
        "    distance = abs(actual_features - predicted_features)\n",
        "    return actual_features, distance"
      ]
    },
    {
      "cell_type": "code",
      "execution_count": 100,
      "metadata": {},
      "outputs": [],
      "source": [
        "def get_closest(S, prior, returns_matrix, uncertainty_matrix, returns, tickers, risk_free_rate=0.02, shift=100, model_names=['Linear Regression', 'Random Forest', 'XGBoost']):\n",
        "    min_distance = float('inf')\n",
        "    for model_name in model_names:\n",
        "        views, weights, predicted_features = Blacklitterman_weights(S, prior, returns_matrix, uncertainty_matrix, tickers, model_name)\n",
        "        actual_features, distance = validation(returns, weights, predicted_features, risk_free_rate, shift)\n",
        "        mean_distance = np.mean(distance)\n",
        "        if mean_distance < min_distance:\n",
        "            min_distance = mean_distance\n",
        "            min_views = views\n",
        "            min_actual_features = actual_features\n",
        "    return min_views, min_actual_features, min_distance"
      ]
    },
    {
      "cell_type": "code",
      "execution_count": 102,
      "metadata": {
        "colab": {
          "base_uri": "https://localhost:8080/"
        },
        "id": "N1lQjbCU-fPR",
        "outputId": "7741a367-676b-4df1-bb7a-e2ddca0b26f9"
      },
      "outputs": [
        {
          "name": "stdout",
          "output_type": "stream",
          "text": [
            "OrderedDict([('AAPL', 0.0), ('ADBE', 0.0), ('AMZN', 0.0), ('CSCO', 1.0), ('GOOGL', 0.0), ('IBM', 0.0), ('INTC', 0.0), ('MSFT', 0.0), ('NVDA', 0.0), ('TSLA', 0.0)])\n",
            "Expected annual return: 4.6%\n",
            "Annual volatility: 21.2%\n",
            "Sharpe Ratio: 0.12\n",
            "Portfolio Return: 1.0167\n",
            "Portfolio Volatility: 0.2393\n",
            "Sharpe Ratio for the portfolio: 4.17\n",
            "OrderedDict([('AAPL', 0.0), ('ADBE', 0.49188), ('AMZN', 0.0), ('CSCO', 0.50812), ('GOOGL', 0.0), ('IBM', 0.0), ('INTC', 0.0), ('MSFT', 0.0), ('NVDA', 0.0), ('TSLA', 0.0)])\n",
            "Expected annual return: 7.1%\n",
            "Annual volatility: 21.7%\n",
            "Sharpe Ratio: 0.23\n",
            "Portfolio Return: 0.8284\n",
            "Portfolio Volatility: 0.1952\n",
            "Sharpe Ratio for the portfolio: 4.14\n",
            "OrderedDict([('AAPL', 0.04017), ('ADBE', 0.24769), ('AMZN', 0.09063), ('CSCO', 0.01068), ('GOOGL', 0.07612), ('IBM', 0.17911), ('INTC', 0.02157), ('MSFT', 0.03986), ('NVDA', 0.22755), ('TSLA', 0.06663)])\n",
            "Expected annual return: 26.7%\n",
            "Annual volatility: 23.5%\n",
            "Sharpe Ratio: 1.05\n",
            "Portfolio Return: 0.6715\n",
            "Portfolio Volatility: 0.1657\n",
            "Sharpe Ratio for the portfolio: 3.93\n"
          ]
        }
      ],
      "source": [
        "views, actual_features, distance = get_closest(S, prior, returns_matrix, uncertainty_matrix, returns, tickers)"
      ]
    },
    {
      "cell_type": "markdown",
      "metadata": {},
      "source": [
        "### Test"
      ]
    },
    {
      "cell_type": "code",
      "execution_count": 103,
      "metadata": {},
      "outputs": [],
      "source": [
        "def Blacklitterman_test(absolute_views, view_confidences, tickers, start_date=\"2022-12-31\", end_date=\"2024-03-31\", verbose=True):\n",
        "    ohlc = yf.download(tickers, start=start_date, end=end_date)\n",
        "    prices = ohlc[\"Adj Close\"]\n",
        "    S = risk_models.CovarianceShrinkage(prices).ledoit_wolf()\n",
        "    market_prices = yf.download(\"SPY\", start=start_date, end=end_date)[\"Adj Close\"]\n",
        "    delta = black_litterman.market_implied_risk_aversion(market_prices)\n",
        "    prior = black_litterman.market_implied_prior_returns(get_mcaps(tickers), delta, S)\n",
        "    bl = BlackLittermanModel(S, pi=prior, absolute_views=absolute_views, view_confidences=view_confidences)\n",
        "    rets = bl.bl_returns()\n",
        "    ef = EfficientFrontier(rets, S)\n",
        "    ef.max_sharpe()\n",
        "    print(ef.clean_weights())\n",
        "    weights = ef.clean_weights()\n",
        "    weights = np.array(list(weights.values()))\n",
        "    predicted_features=ef.portfolio_performance(verbose=verbose)\n",
        "    return weights, predicted_features"
      ]
    },
    {
      "cell_type": "code",
      "execution_count": 104,
      "metadata": {},
      "outputs": [
        {
          "name": "stderr",
          "output_type": "stream",
          "text": [
            "[*********************100%%**********************]  10 of 10 completed\n",
            "[*********************100%%**********************]  1 of 1 completed\n"
          ]
        },
        {
          "name": "stdout",
          "output_type": "stream",
          "text": [
            "OrderedDict([('AAPL', 0.22739), ('ADBE', 0.04599), ('AMZN', 0.14057), ('CSCO', 0.0), ('GOOGL', 0.02922), ('IBM', 0.04201), ('INTC', 0.0), ('MSFT', 0.21665), ('NVDA', 0.2091), ('TSLA', 0.08906)])\n",
            "Expected annual return: 42.4%\n",
            "Annual volatility: 23.0%\n",
            "Sharpe Ratio: 1.75\n"
          ]
        }
      ],
      "source": [
        "weights, predicted_features = Blacklitterman_test(views[0], views[1], tickers)"
      ]
    },
    {
      "cell_type": "code",
      "execution_count": 105,
      "metadata": {},
      "outputs": [
        {
          "name": "stderr",
          "output_type": "stream",
          "text": [
            "[*********************100%%**********************]  1 of 1 completed\n",
            "[*********************100%%**********************]  1 of 1 completed\n",
            "[*********************100%%**********************]  1 of 1 completed\n",
            "[*********************100%%**********************]  1 of 1 completed\n",
            "[*********************100%%**********************]  1 of 1 completed\n",
            "[*********************100%%**********************]  1 of 1 completed\n",
            "[*********************100%%**********************]  1 of 1 completed\n",
            "[*********************100%%**********************]  1 of 1 completed\n",
            "[*********************100%%**********************]  1 of 1 completed\n",
            "[*********************100%%**********************]  1 of 1 completed"
          ]
        },
        {
          "name": "stdout",
          "output_type": "stream",
          "text": [
            "             AAPL_Open  AAPL_Close   MSFT_Open  MSFT_Close  GOOGL_Open  \\\n",
            "Date                                                                     \n",
            "2024-04-01  171.190002  169.603378  423.950012  423.043060  150.690002   \n",
            "2024-04-02  169.080002  168.416351  420.109985  419.924347  153.500000   \n",
            "2024-04-03  168.789993  169.224319  419.730011  418.937897  153.600006   \n",
            "2024-04-04  170.289993  168.396423  424.989990  416.377136  153.500000   \n",
            "2024-04-05  169.589996  169.154495  420.010010  423.989624  150.029999   \n",
            "\n",
            "            GOOGL_Close   AMZN_Open  AMZN_Close   TSLA_Open  TSLA_Close  ...  \\\n",
            "Date                                                                     ...   \n",
            "2024-04-01   155.105942  180.789993  180.970001  176.169998  175.220001  ...   \n",
            "2024-04-02   154.178223  179.070007  180.690002  164.750000  166.630005  ...   \n",
            "2024-04-03   154.537338  179.899994  182.410004  164.020004  168.380005  ...   \n",
            "2024-04-04   150.158188  184.000000  180.000000  170.070007  171.110001  ...   \n",
            "2024-04-05   152.123322  182.380005  185.070007  169.080002  164.899994  ...   \n",
            "\n",
            "            NVDA_Close  INTC_Open  INTC_Close   ADBE_Open  ADBE_Close  \\\n",
            "Date                                                                    \n",
            "2024-04-01   90.347847  44.290001   44.060402  504.989990  502.089996   \n",
            "2024-04-02   89.437004  43.930000   43.486389  494.399994  499.209991   \n",
            "2024-04-03   88.949081  41.400002   39.913658  497.359985  497.010010   \n",
            "2024-04-04   85.890594  40.590000   39.319851  503.559998  487.109985   \n",
            "2024-04-05   87.993248  39.349998   38.310379  488.839996  485.119995   \n",
            "\n",
            "            CSCO_Open  CSCO_Close    IBM_Open   IBM_Close  RiskFreeRate  \n",
            "Date                                                                     \n",
            "2024-04-01  49.959999   49.212875  190.000000  186.334396          0.02  \n",
            "2024-04-02  49.959999   48.544117  189.139999  185.401886          0.02  \n",
            "2024-04-03  48.799999   48.325985  188.600006  187.384689          0.02  \n",
            "2024-04-04  49.090000   47.701336  192.000000  184.479187          0.02  \n",
            "2024-04-05  47.959999   48.137596  188.589996  185.657089          0.02  \n",
            "\n",
            "[5 rows x 21 columns]\n",
            "Portfolio Return: 0.5631\n",
            "Portfolio Volatility: 0.1750\n",
            "Sharpe Ratio for the portfolio: 3.10\n"
          ]
        },
        {
          "name": "stderr",
          "output_type": "stream",
          "text": [
            "\n"
          ]
        }
      ],
      "source": [
        "from datetime import date\n",
        "\n",
        "df_combined = combined_data(tickers, start_date=\"2024-03-31\", end_date=date.today().strftime(\"%Y-%m-%d\"))\n",
        "returns = get_returns(tickers, df_combined)\n",
        "actual_features, distance = validation(returns, weights, predicted_features)"
      ]
    },
    {
      "cell_type": "markdown",
      "metadata": {
        "id": "XgieOHtPAvxG"
      },
      "source": [
        "**Linear Regression:**\n",
        "\n",
        "Actual:\n",
        "\n",
        "Portfolio Return: 0.3456\n",
        "Portfolio Volatility: 0.2109\n",
        "Sharpe Ratio for the portfolio: 1.54\n",
        "\n",
        "\n",
        "Predicted:\n",
        "\n",
        "Expected annual return: 3.4%\n",
        "Annual volatility: 46.4%\n",
        "Sharpe Ratio: 0.03\n",
        "\n",
        "Distance:\n",
        "[ 0.3113046 , -0.25333506,  1.51283327]\n",
        "\n",
        "**Random Forest:**\n",
        "\n",
        "Actual:\n",
        "\n",
        "Portfolio Return: 0.5819\n",
        "Portfolio Volatility: 0.2560\n",
        "Sharpe Ratio for the portfolio: 2.19\n",
        "\n",
        "\n",
        "\n",
        "Predicted:\n",
        "\n",
        "Expected annual return: 4.0%\n",
        "Annual volatility: 56.3%\n",
        "Sharpe Ratio: 0.03\n",
        "\n",
        "Distance:\n",
        "\n",
        "[ 0.3113046 , -0.25333506,  1.51283327]\n",
        "\n",
        "\n",
        "**XGBoost:**\n",
        "\n",
        "Actual:\n",
        "\n",
        "Portfolio Return: 0.7259\n",
        "Portfolio Volatility: 0.2131\n",
        "Sharpe Ratio for the portfolio: 3.31\n",
        "\n",
        "Predicted:\n",
        "\n",
        "Expected annual return: 31.2%\n",
        "Annual volatility: 44.9%\n",
        "Sharpe Ratio: 0.65\n",
        "\n",
        "Distance:\n",
        "\n",
        "[ 0.41366327, -0.2355333 ,  2.66173012]\n",
        "\n"
      ]
    },
    {
      "cell_type": "markdown",
      "metadata": {
        "id": "BCrKgLHD5nnt"
      },
      "source": [
        "**Hierarchical risk parity**"
      ]
    },
    {
      "cell_type": "code",
      "execution_count": 25,
      "metadata": {
        "colab": {
          "base_uri": "https://localhost:8080/",
          "height": 631
        },
        "id": "_f48sVvr1Ssd",
        "outputId": "db648bff-19a6-4f3b-e6ae-7e5b4241678d"
      },
      "outputs": [
        {
          "name": "stdout",
          "output_type": "stream",
          "text": [
            "Expected annual return: 7.2%\n",
            "Annual volatility: 33.6%\n",
            "Sharpe Ratio: 0.16\n",
            "OrderedDict([('BN', 0.7063331911408421), ('ENPH', 0.11260488652787708), ('FSLR', 0.1810619223312808)])\n"
          ]
        },
        {
          "name": "stderr",
          "output_type": "stream",
          "text": [
            "/usr/local/lib/python3.10/dist-packages/pypfopt/hierarchical_portfolio.py:138: FutureWarning: Setting an item of incompatible dtype is deprecated and will raise in a future error of pandas. Value '[0.70633319]' has dtype incompatible with int64, please explicitly cast to a compatible dtype first.\n",
            "  w[first_cluster] *= alpha  # weight 1\n"
          ]
        },
        {
          "data": {
            "text/plain": [
              "<Axes: >"
            ]
          },
          "execution_count": 25,
          "metadata": {},
          "output_type": "execute_result"
        },
        {
          "data": {
            "image/png": "[encoded data removed]",
            "text/plain": [
              "<Figure size 640x480 with 1 Axes>"
            ]
          },
          "metadata": {},
          "output_type": "display_data"
        }
      ],
      "source": [
        "hrp = HRPOpt(daily_returns)\n",
        "weights = hrp.optimize()\n",
        "hrp.portfolio_performance(verbose=True)\n",
        "print(weights)\n",
        "\n",
        "import pypfopt.plotting as plotting\n",
        "plotting.plot_dendrogram(hrp)  # to plot dendrogram"
      ]
    },
    {
      "cell_type": "code",
      "execution_count": null,
      "metadata": {
        "id": "0h-fo_626GNj"
      },
      "outputs": [],
      "source": [
        "cla = CLA(mu, S)\n",
        "print(cla.max_sharpe())\n",
        "cla.portfolio_performance(verbose=True)\n",
        "plotting.plot_efficient_frontier(cla)  # to plot"
      ]
    },
    {
      "cell_type": "markdown",
      "metadata": {
        "id": "u16Tjq8C6dfz"
      },
      "source": [
        "# Summary"
      ]
    },
    {
      "cell_type": "code",
      "execution_count": null,
      "metadata": {
        "id": "sLCM4kMV6c1-"
      },
      "outputs": [],
      "source": [
        "%matplotlib inline\n",
        "%load_ext autoreload\n",
        "%autoreload 2\n",
        "%config InlineBackend.figure_format = 'svg'\n",
        "\n",
        "import numpy as np\n",
        "import pandas as pd\n",
        "import seaborn as sns\n",
        "import datetime as dt\n",
        "import matplotlib.pyplot as plt\n",
        "\n",
        "import universal as up\n",
        "from universal import tools, algos\n",
        "from universal.algos import *\n",
        "\n",
        "sns.set_context(\"notebook\")\n",
        "plt.rcParams[\"figure.figsize\"] = (16, 8)"
      ]
    },
    {
      "cell_type": "code",
      "execution_count": null,
      "metadata": {
        "id": "jMi-7_oznI0J"
      },
      "outputs": [],
      "source": [
        "# Prepare data for visualizations\n",
        "'''\n",
        "model_names = ['Linear Regression', 'Random Forest', 'XGBoost']\n",
        "company_names = ['Company 1', 'Company 2', 'Company 3']\n",
        "\n",
        "# Box Plots\n",
        "\n",
        "for i in range(n_companies):\n",
        "    plt.figure(figsize=(14, 7))\n",
        "    data = [predicted_returns[i][model_name] for model_name in model_names]\n",
        "    plt.boxplot(data, labels=model_names)\n",
        "    plt.title(f'Box Plot of Predicted Returns for {company_names[i]}')\n",
        "    plt.ylabel('Expected Return')\n",
        "    plt.show()\n",
        "\n",
        "# Line Plots for Actual vs. Predicted Returns\n",
        "for i, (X_train, X_test, y_train, y_test) in enumerate(data_splits):\n",
        "    predictions = predicted_returns[i]\n",
        "\n",
        "    plt.figure(figsize=(14, 7))\n",
        "    plt.plot(y_test.index, y_test, label='Actual Returns', color='blue')\n",
        "    plt.plot(y_test.index, predictions['Linear Regression'], label='Predicted Returns - Linear Regression', color='red')\n",
        "    plt.plot(y_test.index, predictions['Random Forest'], label='Predicted Returns - Random Forest', color='green')\n",
        "    plt.plot(y_test.index, predictions['XGBoost'], label='Predicted Returns - XGBoost', color='orange')\n",
        "    plt.title(f'Actual vs Predicted Returns for {company_names[i]}')\n",
        "    plt.xlabel('Date')\n",
        "    plt.ylabel('Returns')\n",
        "    plt.legend()\n",
        "    plt.show()\n",
        "\n",
        "# Scatter Plots for Actual vs. Predicted Returns\n",
        "for i, (X_train, X_test, y_train, y_test) in enumerate(data_splits):\n",
        "    predictions = predicted_returns[i]\n",
        "\n",
        "    plt.figure(figsize=(14, 7))\n",
        "    plt.scatter(y_test, predictions['Linear Regression'], label='Linear Regression', color='red')\n",
        "    plt.scatter(y_test, predictions['Random Forest'], label='Random Forest', color='green')\n",
        "    plt.scatter(y_test, predictions['XGBoost'], label='XGBoost', color='orange')\n",
        "    plt.plot([y_test.min(), y_test.max()], [y_test.min(), y_test.max()], 'k--', lw=2)\n",
        "    plt.title(f'Scatter Plot of Actual vs Predicted Returns for {company_names[i]}')\n",
        "    plt.xlabel('Actual Returns')\n",
        "    plt.ylabel('Predicted Returns')\n",
        "    plt.legend()\n",
        "    plt.show()\n",
        "'''"
      ]
    },
    {
      "cell_type": "code",
      "execution_count": null,
      "metadata": {
        "id": "kF85o2DncL6a"
      },
      "outputs": [],
      "source": [
        "\n",
        "print(\"\\nConfidence Intervals Matrix (95% CI):\")\n",
        "print(confidence_intervals_matrix)\n",
        "\n",
        "# Prepare data for visualizations\n",
        "model_names = ['Linear Regression', 'Random Forest', 'XGBoost']\n",
        "company_names = ['Company 1', 'Company 2', 'Company 3']\n",
        "\n",
        "# Plot predicted returns with confidence intervals\n",
        "for i in range(n_companies):\n",
        "    plt.figure(figsize=(14, 7))\n",
        "    for j in range(n_models):\n",
        "        plt.errorbar(j, returns_matrix[i, j],\n",
        "                     yerr=[[returns_matrix[i, j] - confidence_intervals_matrix[i, j, 0]], [confidence_intervals_matrix[i, j, 1] - returns_matrix[i, j]]],\n",
        "                     fmt='o', capsize=5, label=f'{model_names[j]} Mean Return')\n",
        "    plt.title(f'Returns and Confidence Intervals for {company_names[i]}')\n",
        "    plt.xlabel('Model')\n",
        "    plt.ylabel('Expected Return')\n",
        "    plt.xticks(range(n_models), model_names)\n",
        "    plt.legend()\n",
        "    plt.show()"
      ]
    },
    {
      "cell_type": "code",
      "execution_count": null,
      "metadata": {
        "id": "fnMr7G9ScZ8X"
      },
      "outputs": [],
      "source": [
        "import seaborn as sns\n",
        "\n",
        "for i in range(n_companies):\n",
        "    plt.figure(figsize=(14, 7))\n",
        "    for model_name in model_names:\n",
        "        sns.kdeplot(predicted_returns[i][model_name], label=model_name)\n",
        "    plt.title(f'Density Plot of Predicted Returns for {company_names[i]}')\n",
        "    plt.xlabel('Expected Return')\n",
        "    plt.ylabel('Density')\n",
        "    plt.legend()\n",
        "    plt.show()"
      ]
    },
    {
      "cell_type": "code",
      "execution_count": null,
      "metadata": {
        "id": "KIJYMwj5aTmq"
      },
      "outputs": [],
      "source": [
        "model_names = ['Linear Regression', 'Random Forest', 'XGBoost']\n",
        "company_names = ['Company 1', 'Company 2', 'Company 3']\n",
        "\n",
        "for i in range(n_companies):\n",
        "    plt.figure(figsize=(14, 7))\n",
        "    for j in range(n_models):\n",
        "        plt.bar(j, returns_matrix[i, j], label=f'{model_names[j]} Mean Return')\n",
        "    plt.title(f'Predicted Returns for {company_names[i]}')\n",
        "    plt.xlabel('Model')\n",
        "    plt.ylabel('Expected Return')\n",
        "    plt.xticks(range(n_models), model_names)\n",
        "    plt.legend()\n",
        "    plt.show()"
      ]
    },
    {
      "cell_type": "code",
      "execution_count": null,
      "metadata": {
        "id": "f7yhwS2la26C"
      },
      "outputs": [],
      "source": [
        "for i, (X_train, X_test, y_train, y_test) in enumerate(data_splits):\n",
        "    predictions = train_and_predict(X_train, y_train, X_test)\n",
        "\n",
        "    plt.figure(figsize=(14, 7))\n",
        "    plt.plot(y_test.index, y_test, label='Actual Returns', color='blue')\n",
        "    plt.plot(y_test.index, predictions['LinearRegression'], label='Predicted Returns - Linear Regression', color='red')\n",
        "    plt.plot(y_test.index, predictions['RandomForest'], label='Predicted Returns - Random Forest', color='green')\n",
        "    plt.plot(y_test.index, predictions['XGBoost'], label='Predicted Returns - XGBoost', color='orange')\n",
        "    plt.title(f'Actual vs Predicted Returns for {company_names[i]}')\n",
        "    plt.xlabel('Date')\n",
        "    plt.ylabel('Returns')\n",
        "    plt.legend()\n",
        "    plt.show()"
      ]
    }
  ],
  "metadata": {
    "colab": {
      "provenance": []
    },
    "kernelspec": {
      "display_name": "Python 3",
      "name": "python3"
    },
    "language_info": {
      "codemirror_mode": {
        "name": "ipython",
        "version": 3
      },
      "file_extension": ".py",
      "mimetype": "text/x-python",
      "name": "python",
      "nbconvert_exporter": "python",
      "pygments_lexer": "ipython3",
      "version": "3.9.19"
    }
  },
  "nbformat": 4,
  "nbformat_minor": 0
}
